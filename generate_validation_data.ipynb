{
 "cells": [
  {
   "cell_type": "code",
   "execution_count": 1,
   "id": "e8932a5b",
   "metadata": {},
   "outputs": [],
   "source": [
    "import os\n",
    "import numpy as np\n",
    "import tifffile as tiff\n",
    "\n",
    "def generate_validation_data(input_dir, output_tiff_path):\n",
    "    combined_stack = []\n",
    "\n",
    "    # Get all .tif/.tiff files in the directory\n",
    "    tiff_files = [f for f in os.listdir(input_dir) if f.lower().endswith(('.tif', '.tiff'))]\n",
    "    tiff_files.sort()  # Optional: sort files for consistent order\n",
    "\n",
    "    for file in tiff_files:\n",
    "        filepath = os.path.join(input_dir, file)\n",
    "        print(f\"Reading: {filepath}\")\n",
    "        img_stack = tiff.imread(filepath)  # Load all frames in the TIFF file\n",
    "\n",
    "        for page in img_stack:\n",
    "            norm_page = (page - page.min()) / (page.max() - page.min())\n",
    "            page_uint8 = (norm_page * 255).astype(np.uint8)\n",
    "            combined_stack.append(page_uint8)\n",
    "\n",
    "    # Combine all stacks into one big stack\n",
    "    combined_stack = np.array(combined_stack)\n",
    "    combined_stack = combined_stack[:, 128:, 128:]\n",
    "\n",
    "    print(combined_stack.shape)\n",
    "    # Save the combined stack as a new multi-page TIFF\n",
    "    tiff.imwrite(output_tiff_path, combined_stack)\n",
    "    print(f\"combined validation stack saved to: {output_tiff_path}\")"
   ]
  },
  {
   "cell_type": "code",
   "execution_count": 2,
   "id": "ed1b17c1",
   "metadata": {},
   "outputs": [
    {
     "name": "stdout",
     "output_type": "stream",
     "text": [
      "Reading: /Users/jakesolsky/PlateletImageSegmentation/Data/Training Data/Raw/Masks/Mask_S2.tif\n",
      "Reading: /Users/jakesolsky/PlateletImageSegmentation/Data/Training Data/Raw/Masks/Mask_S3.tif\n",
      "Reading: /Users/jakesolsky/PlateletImageSegmentation/Data/Training Data/Raw/Masks/Mask_S4.tif\n",
      "(303, 128, 128)\n",
      "combined validation stack saved to: /Users/jakesolsky/PlateletImageSegmentation/Data/Validation/combined_validation_Masks.tif\n"
     ]
    }
   ],
   "source": [
    "# Example usage for Masks\n",
    "generate_validation_data(input_dir=\"/Users/jakesolsky/PlateletImageSegmentation/Data/Training Data/Raw/Masks\", \n",
    "                    output_tiff_path=\"/Users/jakesolsky/PlateletImageSegmentation/Data/Validation/combined_validation_Masks.tif\")"
   ]
  },
  {
   "cell_type": "code",
   "execution_count": null,
   "id": "d2cb2fef",
   "metadata": {},
   "outputs": [
    {
     "name": "stdout",
     "output_type": "stream",
     "text": [
      "Reading: /Users/jakesolsky/PlateletImageSegmentation/Data/Training Data/Raw/Images/S2.tif\n",
      "Reading: /Users/jakesolsky/PlateletImageSegmentation/Data/Training Data/Raw/Images/S3.tif\n",
      "Reading: /Users/jakesolsky/PlateletImageSegmentation/Data/Training Data/Raw/Images/S4.tif\n",
      "(303, 128, 128)\n",
      "combined validation stack saved to: /Users/jakesolsky/PlateletImageSegmentation/Data/Validation/combined_validation_images.tif\n"
     ]
    }
   ],
   "source": [
    "# Example usage for Images\n",
    "generate_validation_data(input_dir=\"/Users/jakesolsky/PlateletImageSegmentation/Data/Training Data/Raw/Images\", \n",
    "                    output_tiff_path=\"/Users/jakesolsky/PlateletImageSegmentation/Data/Validation/combined_validation_Images.tif\")"
   ]
  },
  {
   "cell_type": "markdown",
   "id": "e8f2024e",
   "metadata": {},
   "source": []
  }
 ],
 "metadata": {
  "kernelspec": {
   "display_name": "micro-sam",
   "language": "python",
   "name": "python3"
  },
  "language_info": {
   "codemirror_mode": {
    "name": "ipython",
    "version": 3
   },
   "file_extension": ".py",
   "mimetype": "text/x-python",
   "name": "python",
   "nbconvert_exporter": "python",
   "pygments_lexer": "ipython3",
   "version": "3.12.9"
  }
 },
 "nbformat": 4,
 "nbformat_minor": 5
}
